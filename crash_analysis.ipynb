{
 "cells": [
  {
   "cell_type": "code",
   "execution_count": 2,
   "metadata": {},
   "outputs": [],
   "source": [
    "import numpy as np\n",
    "import matplotlib.pyplot as plt\n",
    "import netCDF4 as nc"
   ]
  },
  {
   "cell_type": "code",
   "execution_count": 4,
   "metadata": {},
   "outputs": [],
   "source": [
    "crash_rb1 = nc.Dataset(\"/Users/jiandachen/Projects/PaperWriting/replaybuffer/plot_data/crash_analysis/norb1.cam.h0.1998-04.nc\", 'r')"
   ]
  },
  {
   "cell_type": "code",
   "execution_count": 6,
   "metadata": {},
   "outputs": [
    {
     "data": {
      "text/plain": [
       "['Q',\n",
       " 'QC',\n",
       " 'QCCL',\n",
       " 'QFLX',\n",
       " 'QIIL',\n",
       " 'QL',\n",
       " 'QREFHT',\n",
       " 'QRS',\n",
       " 'QT',\n",
       " 'QTFLX',\n",
       " 'QV0',\n",
       " 'Qc',\n",
       " 'Qi',\n",
       " 'qtend',\n",
       " 'qtend_ac',\n",
       " 'qtend_check',\n",
       " 'qv_nn_in']"
      ]
     },
     "execution_count": 6,
     "metadata": {},
     "output_type": "execute_result"
    }
   ],
   "source": [
    "[key for key in crash_rb1.variables.keys() if key.startswith(\"q\") or key.startswith(\"Q\")]"
   ]
  },
  {
   "cell_type": "code",
   "execution_count": 7,
   "metadata": {},
   "outputs": [],
   "source": [
    "qtend = crash_rb1.variables[\"qtend_check\"]"
   ]
  },
  {
   "cell_type": "code",
   "execution_count": 8,
   "metadata": {},
   "outputs": [
    {
     "data": {
      "text/plain": [
       "<class 'netCDF4._netCDF4.Variable'>\n",
       "float32 qtend_check(time, lev, lat, lon)\n",
       "    mdims: 1\n",
       "    units: kg/kg/s\n",
       "    long_name: Water vapor\n",
       "    cell_methods: time: mean\n",
       "unlimited dimensions: time\n",
       "current shape = (1, 30, 96, 144)\n",
       "filling on, default _FillValue of 9.969209968386869e+36 used"
      ]
     },
     "execution_count": 8,
     "metadata": {},
     "output_type": "execute_result"
    }
   ],
   "source": [
    "qtend"
   ]
  }
 ],
 "metadata": {
  "kernelspec": {
   "display_name": "nncam",
   "language": "python",
   "name": "python3"
  },
  "language_info": {
   "codemirror_mode": {
    "name": "ipython",
    "version": 3
   },
   "file_extension": ".py",
   "mimetype": "text/x-python",
   "name": "python",
   "nbconvert_exporter": "python",
   "pygments_lexer": "ipython3",
   "version": "3.9.18"
  }
 },
 "nbformat": 4,
 "nbformat_minor": 2
}
