{
 "cells": [
  {
   "cell_type": "code",
   "execution_count": 26,
   "metadata": {},
   "outputs": [
    {
     "name": "stdout",
     "output_type": "stream",
     "text": [
      "<class 'netCDF4._netCDF4.Dataset'>\n",
      "root group (NETCDF3_64BIT_OFFSET data model, file format NETCDF3):\n",
      "    Conventions: CF-1.0\n",
      "    source: CAM\n",
      "    case: baseline_nn_rh\n",
      "    title: UNSET\n",
      "    logname: chenj209\n",
      "    host: ai002\n",
      "    Version: $Name$\n",
      "    revision_Id: $Id$\n",
      "    initial_file: /share2/CESM/cesm-input//atm/cam/inic/fv/cami-mam3_0000-01-01_1.9x2.5_L30_c090306.nc\n",
      "    topography_file: /share2/CESM/cesm-input//atm/cam/topo/USGS-gtopo30_1.9x2.5_remap_c050602.nc\n",
      "    dimensions(sizes): lat(96), lon(144), slat(95), slon(144), time(8760), nbnd(2), chars(8), lev(30), ilev(31), crm_nx(32), crm_ny(1), crm_nz(28), pverp(31), pver(30), NCLASS_CL(2), ncls_ecpp_in(3), NCLASS_PR(2)\n",
      "    variables(dimensions): float64 lev(lev), float64 hyam(lev), float64 hybm(lev), float64 ilev(ilev), float64 hyai(ilev), float64 hybi(ilev), float64 P0(), float64 time(time), int32 date(time), int32 datesec(time), float64 lat(lat), float64 lon(lon), float64 slat(slat), float64 slon(slon), float64 w_stag(slat), float64 time_bnds(time, nbnd), |S1 date_written(time, chars), |S1 time_written(time, chars), int32 ntrm(), int32 ntrn(), int32 ntrk(), int32 ndbase(), int32 nsbase(), int32 nbdate(), int32 nbsec(), int32 mdt(), int32 nlon(lat), int32 wnummax(lat), float64 gw(lat), int32 ndcur(time), int32 nscur(time), float64 co2vmr(time), float64 ch4vmr(time), float64 n2ovmr(time), float64 f11vmr(time), float64 f12vmr(time), float64 sol_tsi(time), int32 nsteph(time), float32 FLUT(time, lat, lon), float32 OMEGA500(time, lat, lon), float32 U200(time, lat, lon), float32 U850(time, lat, lon), float32 cp(time, lat, lon)\n",
      "    groups: \n"
     ]
    }
   ],
   "source": [
    "import netCDF4 as nc\n",
    "\n",
    "nncamrh_path = \"/Users/jianda/Projects/experience_replay_data/nncamrh/0001_files/baseline_nn_rh.cam.h1.0001-01-01-00000.nc\"\n",
    "nncamrh = nc.Dataset(nncamrh_path)\n",
    "print(nncamrh)"
   ]
  },
  {
   "cell_type": "code",
   "execution_count": 27,
   "metadata": {},
   "outputs": [
    {
     "name": "stdout",
     "output_type": "stream",
     "text": [
      "<class 'netCDF4._netCDF4.Variable'>\n",
      "float64 time(time)\n",
      "    long_name: time\n",
      "    units: days since 0001-01-01 00:00:00\n",
      "    calendar: noleap\n",
      "    bounds: time_bnds\n",
      "unlimited dimensions: time\n",
      "current shape = (8760,)\n",
      "filling on, default _FillValue of 9.969209968386869e+36 used\n",
      "[0.         0.04166667 0.08333333 0.125      0.16666667 0.20833333\n",
      " 0.25       0.29166667 0.33333333 0.375     ]\n"
     ]
    }
   ],
   "source": [
    "print(nncamrh.variables[\"time\"])\n",
    "print(nncamrh.variables[\"time\"][:10])"
   ]
  },
  {
   "cell_type": "code",
   "execution_count": 39,
   "metadata": {},
   "outputs": [
    {
     "name": "stdout",
     "output_type": "stream",
     "text": [
      "['long_name', 'units', 'calendar', 'bounds']\n"
     ]
    }
   ],
   "source": [
    "print(nncamrh.variables[\"time\"].ncattrs())"
   ]
  },
  {
   "cell_type": "code",
   "execution_count": 4,
   "metadata": {},
   "outputs": [
    {
     "name": "stdout",
     "output_type": "stream",
     "text": [
      "<class 'netCDF4._netCDF4.Variable'>\n",
      "int32 date(time)\n",
      "    long_name: current date (YYYYMMDD)\n",
      "unlimited dimensions: time\n",
      "current shape = (8760,)\n",
      "filling on, default _FillValue of -2147483647 used\n",
      "[10101 10101 10101 10101 10101 10101 10101 10101 10101 10101]\n"
     ]
    }
   ],
   "source": [
    "print(nncamrh.variables[\"date\"])\n",
    "print(nncamrh.variables[\"date\"][:10])"
   ]
  },
  {
   "cell_type": "code",
   "execution_count": 5,
   "metadata": {},
   "outputs": [
    {
     "name": "stdout",
     "output_type": "stream",
     "text": [
      "<class 'netCDF4._netCDF4.Variable'>\n",
      "float64 time(time)\n",
      "    long_name: time\n",
      "    units: days since 0001-01-01 00:00:00\n",
      "    calendar: noleap\n",
      "    bounds: time_bnds\n",
      "unlimited dimensions: time\n",
      "current shape = (8760,)\n",
      "filling on, default _FillValue of 9.969209968386869e+36 used\n",
      "[0.         0.04166667 0.08333333 0.125      0.16666667 0.20833333\n",
      " 0.25       0.29166667 0.33333333 0.375     ]\n",
      "<class 'netCDF4._netCDF4.Variable'>\n",
      "float64 time_bnds(time, nbnd)\n",
      "    long_name: time interval endpoints\n",
      "unlimited dimensions: time\n",
      "current shape = (8760, 2)\n",
      "filling on, default _FillValue of 9.969209968386869e+36 used\n",
      "[[0.         0.        ]\n",
      " [0.         0.04166667]\n",
      " [0.04166667 0.08333333]\n",
      " [0.08333333 0.125     ]\n",
      " [0.125      0.16666667]\n",
      " [0.16666667 0.20833333]\n",
      " [0.20833333 0.25      ]\n",
      " [0.25       0.29166667]\n",
      " [0.29166667 0.33333333]\n",
      " [0.33333333 0.375     ]]\n",
      "<class 'netCDF4._netCDF4.Variable'>\n",
      "int32 date(time)\n",
      "    long_name: current date (YYYYMMDD)\n",
      "unlimited dimensions: time\n",
      "current shape = (8760,)\n",
      "filling on, default _FillValue of -2147483647 used\n",
      "[10101 10101 10101 10101 10101 10101 10101 10101 10101 10101]\n"
     ]
    }
   ],
   "source": [
    "var_name = \"time\"\n",
    "print(nncamrh.variables[var_name])\n",
    "print(nncamrh.variables[var_name][:10])\n",
    "var_name = \"time_bnds\"\n",
    "print(nncamrh.variables[var_name])\n",
    "print(nncamrh.variables[var_name][:10])\n",
    "var_name = \"date\"\n",
    "print(nncamrh.variables[var_name])\n",
    "print(nncamrh.variables[var_name][:10])\n",
    "nncamrh.close()\n"
   ]
  },
  {
   "cell_type": "code",
   "execution_count": 6,
   "metadata": {},
   "outputs": [],
   "source": [
    "# from netCDF4 import num2date\n",
    "# import numpy as np\n",
    "# from datetime import datetime, timedelta\n",
    "# # Create a new netCDF file\n",
    "# output_path = \"./baseline_nn_rh_1998.nc\"\n",
    "# new_nc = nc.Dataset(output_path, 'w')\n",
    "\n",
    "# # Create a function to convert time values to YYYYMMDD format\n",
    "# def time_to_date(time_values, units, calendar='noleap'):\n",
    "#     # Convert time values to datetime objects\n",
    "#     dates = num2date(time_values, units, calendar=calendar)\n",
    "#     # Convert to YYYYMMDD format\n",
    "#     date_ints = np.array([int(d.strftime('%Y%m%d')) for d in dates])\n",
    "#     return date_ints\n",
    "\n",
    "# # Copy all dimensions from the original file\n",
    "# for dim_name, dim in nncamrh.dimensions.items():\n",
    "#     new_nc.createDimension(dim_name, len(dim) if not dim.isunlimited() else None)\n",
    "\n",
    "# # When creating the new netCDF file, modify the date variable\n",
    "# for var_name, var in nncamrh.variables.items():\n",
    "#     new_var = new_nc.createVariable(var_name, var.datatype, var.dimensions)\n",
    "    \n",
    "#     if var_name == 'date':\n",
    "#         # Compute new dates based on the time variable\n",
    "#         time_values = nncamrh.variables['time'][:]\n",
    "#         new_dates = time_to_date(time_values, 'days since 1998-01-01 00:00:00', calendar='noleap')\n",
    "#         new_var[:] = new_dates\n",
    "#     else:\n",
    "#         # Copy data for all other variables\n",
    "#         new_var[:] = var[:]\n",
    "    \n",
    "#     # Copy attributes\n",
    "#     for attr_name in var.ncattrs():\n",
    "#         if var_name == 'time' and attr_name == 'units':\n",
    "#             new_var.setncattr('units', 'days since 1998-01-01 00:00:00')\n",
    "#         else:\n",
    "#             new_var.setncattr(attr_name, var.getncattr(attr_name))\n",
    "\n",
    "# # Copy global attributes\n",
    "# for attr_name in nncamrh.ncattrs():\n",
    "#     new_nc.setncattr(attr_name, nncamrh.getncattr(attr_name))\n",
    "\n",
    "# # Close both files\n",
    "# new_nc.close()\n",
    "# nncamrh.close()\n",
    "\n",
    "# # Verify the changes (optional)\n",
    "# check = nc.Dataset(output_path)\n",
    "# print(\"New time variable attributes:\")\n",
    "# print(check.variables['time'])\n",
    "# print(\"\\nFirst 10 time values:\")\n",
    "# print(check.variables['time'][:10])\n",
    "# check.close()"
   ]
  },
  {
   "cell_type": "code",
   "execution_count": 7,
   "metadata": {},
   "outputs": [],
   "source": [
    "# check = nc.Dataset(output_path)\n",
    "# print(check.variables[\"time\"])\n",
    "# print(check.variables[\"time\"][:10])\n",
    "# print(check.variables[\"date\"])\n",
    "# print(check.variables[\"date\"][:10])\n",
    "# check.close()"
   ]
  },
  {
   "cell_type": "code",
   "execution_count": 8,
   "metadata": {},
   "outputs": [
    {
     "name": "stdout",
     "output_type": "stream",
     "text": [
      "0017\n"
     ]
    }
   ],
   "source": [
    "import re\n",
    "year_pattern = r'h1\\.(\\d{4})'\n",
    "print(re.search(year_pattern, nncamrh_path.replace('0001', '0017')).group(1))"
   ]
  },
  {
   "cell_type": "code",
   "execution_count": 16,
   "metadata": {},
   "outputs": [],
   "source": [
    "import numpy as np\n",
    "import re\n",
    "from netCDF4 import num2date\n",
    "def convert_to_1998_dates(input_filename):\n",
    "    \"\"\"\n",
    "    Convert a netCDF file's time and date variables to use 1998 as the reference year.\n",
    "    \n",
    "    Args:\n",
    "        input_filename (str): Path to input netCDF file\n",
    "    \n",
    "    Returns:\n",
    "        str: Path to the output file\n",
    "    \"\"\"\n",
    "    # Open input file\n",
    "    print(\"Converting \" + input_filename)\n",
    "    input_nc = nc.Dataset(input_filename)\n",
    "    \n",
    "    # Create output filename by adding _1998 before the .nc extension\n",
    "    # output_filename = input_filename.rsplit('.nc', 1)[0] + '_1998.nc'\n",
    "    year_pattern = r'h1\\.(\\d{4})'\n",
    "    input_file_year = re.search(year_pattern, input_filename).group(1)\n",
    "    output_filename = input_filename.replace(input_file_year.rjust(4, '0'), str(1997+int(input_file_year)))\n",
    "    print(\"output_filename: \" + output_filename)\n",
    "    # return\n",
    "    new_nc = nc.Dataset(output_filename, 'w')\n",
    "    \n",
    "    # Create a function to convert time values to YYYYMMDD format\n",
    "    def time_to_date(time_values, units, calendar='noleap'):\n",
    "        dates = num2date(time_values, units, calendar=calendar)\n",
    "        date_ints = np.array([int(d.strftime('%Y%m%d')) for d in dates])\n",
    "        return date_ints\n",
    "    \n",
    "    # Copy dimensions\n",
    "    for dim_name, dim in input_nc.dimensions.items():\n",
    "        new_nc.createDimension(dim_name, len(dim) if not dim.isunlimited() else None)\n",
    "    \n",
    "    # Copy variables with modified time/date\n",
    "    for var_name, var in input_nc.variables.items():\n",
    "        new_var = new_nc.createVariable(var_name, var.datatype, var.dimensions)\n",
    "        \n",
    "        if var_name == 'date':\n",
    "            # Compute new dates based on the time variable\n",
    "            time_values = input_nc.variables['time'][:]\n",
    "            new_dates = time_to_date(time_values, 'days since 1998-01-01 00:00:00', calendar='noleap')\n",
    "            new_var[:] = new_dates\n",
    "        else:\n",
    "            # Copy data for all other variables\n",
    "            new_var[:] = var[:]\n",
    "        \n",
    "        # Copy attributes\n",
    "        for attr_name in var.ncattrs():\n",
    "            if var_name == 'time' and attr_name == 'units':\n",
    "                new_var.setncattr('units', 'days since 1998-01-01 00:00:00')\n",
    "            else:\n",
    "                new_var.setncattr(attr_name, var.getncattr(attr_name))\n",
    "    \n",
    "    # Copy global attributes\n",
    "    for attr_name in input_nc.ncattrs():\n",
    "        new_nc.setncattr(attr_name, input_nc.getncattr(attr_name))\n",
    "    \n",
    "    # Close files\n",
    "    new_nc.close()\n",
    "    input_nc.close()\n",
    "    \n",
    "    return output_filename\n"
   ]
  },
  {
   "cell_type": "code",
   "execution_count": 17,
   "metadata": {},
   "outputs": [
    {
     "name": "stdout",
     "output_type": "stream",
     "text": [
      "Converting /Users/jianda/Projects/experience_replay_data/nncamrh/nc_files/baseline_nn_rh.cam.h1.0001-01-01-00000.nc\n",
      "output_filename: /Users/jianda/Projects/experience_replay_data/nncamrh/nc_files/baseline_nn_rh.cam.h1.1998-01-01-00000.nc\n"
     ]
    },
    {
     "data": {
      "text/plain": [
       "'/Users/jianda/Projects/experience_replay_data/nncamrh/nc_files/baseline_nn_rh.cam.h1.1998-01-01-00000.nc'"
      ]
     },
     "execution_count": 17,
     "metadata": {},
     "output_type": "execute_result"
    }
   ],
   "source": [
    "convert_to_1998_dates(nncamrh_path)"
   ]
  },
  {
   "cell_type": "code",
   "execution_count": 18,
   "metadata": {},
   "outputs": [
    {
     "name": "stdout",
     "output_type": "stream",
     "text": [
      "<class 'netCDF4._netCDF4.Variable'>\n",
      "float64 time(time)\n",
      "    long_name: time\n",
      "    units: days since 1998-01-01 00:00:00\n",
      "    calendar: noleap\n",
      "    bounds: time_bnds\n",
      "unlimited dimensions: time\n",
      "current shape = (8760,)\n",
      "filling on, default _FillValue of 9.969209968386869e+36 used\n",
      "[0.         0.04166667 0.08333333 0.125      0.16666667 0.20833333\n",
      " 0.25       0.29166667 0.33333333 0.375     ]\n",
      "<class 'netCDF4._netCDF4.Variable'>\n",
      "int32 date(time)\n",
      "    long_name: current date (YYYYMMDD)\n",
      "unlimited dimensions: time\n",
      "current shape = (8760,)\n",
      "filling on, default _FillValue of -2147483647 used\n",
      "[19980101 19980101 19980101 19980101 19980101 19980101 19980101 19980101\n",
      " 19980101 19980101]\n",
      "<class 'netCDF4._netCDF4.Variable'>\n",
      "float64 time(time)\n",
      "    long_name: time\n",
      "    units: days since 0001-01-01 00:00:00\n",
      "    calendar: noleap\n",
      "    bounds: time_bnds\n",
      "unlimited dimensions: time\n",
      "current shape = (8760,)\n",
      "filling on, default _FillValue of 9.969209968386869e+36 used\n",
      "[0.         0.04166667 0.08333333 0.125      0.16666667 0.20833333\n",
      " 0.25       0.29166667 0.33333333 0.375     ]\n",
      "<class 'netCDF4._netCDF4.Variable'>\n",
      "int32 date(time)\n",
      "    long_name: current date (YYYYMMDD)\n",
      "unlimited dimensions: time\n",
      "current shape = (8760,)\n",
      "filling on, default _FillValue of -2147483647 used\n",
      "[10101 10101 10101 10101 10101 10101 10101 10101 10101 10101]\n"
     ]
    }
   ],
   "source": [
    "original_file = nncamrh_path\n",
    "check_file = nncamrh_path.replace('0001', '1998')\n",
    "check = nc.Dataset(check_file)\n",
    "print(check.variables[\"time\"])\n",
    "print(check.variables[\"time\"][:10])\n",
    "print(check.variables[\"date\"])\n",
    "print(check.variables[\"date\"][:10])\n",
    "original_file = nc.Dataset(original_file)\n",
    "print(original_file.variables[\"time\"])\n",
    "print(original_file.variables[\"time\"][:10])\n",
    "print(original_file.variables[\"date\"])\n",
    "print(original_file.variables[\"date\"][:10])"
   ]
  },
  {
   "cell_type": "code",
   "execution_count": 19,
   "metadata": {},
   "outputs": [
    {
     "data": {
      "text/plain": [
       "True"
      ]
     },
     "execution_count": 19,
     "metadata": {},
     "output_type": "execute_result"
    }
   ],
   "source": [
    "np.allclose(check.variables[\"cp\"][:], original_file.variables[\"cp\"][:])"
   ]
  },
  {
   "cell_type": "code",
   "execution_count": 21,
   "metadata": {},
   "outputs": [
    {
     "name": "stdout",
     "output_type": "stream",
     "text": [
      "lev\n",
      "True\n",
      "hyam\n",
      "True\n",
      "hybm\n",
      "True\n",
      "ilev\n",
      "True\n",
      "hyai\n",
      "True\n",
      "hybi\n",
      "True\n",
      "P0\n",
      "True\n",
      "time\n",
      "True\n",
      "date\n",
      "False\n",
      "datesec\n",
      "True\n",
      "lat\n",
      "True\n",
      "lon\n",
      "True\n",
      "slat\n",
      "True\n",
      "slon\n",
      "True\n",
      "w_stag\n",
      "True\n",
      "time_bnds\n",
      "True\n",
      "date_written\n",
      "date_written is not checked\n",
      "time_written\n",
      "time_written is not checked\n",
      "ntrm\n",
      "True\n",
      "ntrn\n",
      "True\n",
      "ntrk\n",
      "True\n",
      "ndbase\n",
      "True\n",
      "nsbase\n",
      "True\n",
      "nbdate\n",
      "True\n",
      "nbsec\n",
      "True\n",
      "mdt\n",
      "True\n",
      "nlon\n",
      "True\n",
      "wnummax\n",
      "True\n",
      "gw\n",
      "True\n",
      "ndcur\n",
      "True\n",
      "nscur\n",
      "True\n",
      "co2vmr\n",
      "True\n",
      "ch4vmr\n",
      "True\n",
      "n2ovmr\n",
      "True\n",
      "f11vmr\n",
      "True\n",
      "f12vmr\n",
      "True\n",
      "sol_tsi\n",
      "True\n",
      "nsteph\n",
      "True\n",
      "FLUT\n",
      "True\n",
      "OMEGA500\n",
      "True\n",
      "U200\n",
      "True\n",
      "U850\n",
      "True\n",
      "cp\n",
      "True\n"
     ]
    }
   ],
   "source": [
    "for var in original_file.variables:\n",
    "    print(var)\n",
    "    try:\n",
    "        print(np.allclose(check.variables[var][:], original_file.variables[var][:]))\n",
    "    except:\n",
    "        print(var + \" is not checked\")"
   ]
  },
  {
   "cell_type": "code",
   "execution_count": 22,
   "metadata": {},
   "outputs": [],
   "source": [
    "check.close()\n",
    "original_file.close()"
   ]
  },
  {
   "cell_type": "code",
   "execution_count": 23,
   "metadata": {},
   "outputs": [
    {
     "name": "stdout",
     "output_type": "stream",
     "text": [
      "Converting /Users/jianda/Projects/experience_replay_data/nncamrh/nc_files/baseline_nn_rh.cam.h1.0003-01-01-00000.nc\n",
      "output_filename: /Users/jianda/Projects/experience_replay_data/nncamrh/nc_files/baseline_nn_rh.cam.h1.2000-01-01-00000.nc\n",
      "Converting /Users/jianda/Projects/experience_replay_data/nncamrh/nc_files/baseline_nn_rh.cam.h1.0004-01-01-00000.nc\n",
      "output_filename: /Users/jianda/Projects/experience_replay_data/nncamrh/nc_files/baseline_nn_rh.cam.h1.2001-01-01-00000.nc\n",
      "Converting /Users/jianda/Projects/experience_replay_data/nncamrh/nc_files/baseline_nn_rh.cam.h1.0005-01-01-00000.nc\n",
      "output_filename: /Users/jianda/Projects/experience_replay_data/nncamrh/nc_files/baseline_nn_rh.cam.h1.2002-01-01-00000.nc\n",
      "Converting /Users/jianda/Projects/experience_replay_data/nncamrh/nc_files/baseline_nn_rh.cam.h1.0002-01-01-00000.nc\n",
      "output_filename: /Users/jianda/Projects/experience_replay_data/nncamrh/nc_files/baseline_nn_rh.cam.h1.1999-01-01-00000.nc\n",
      "Converting /Users/jianda/Projects/experience_replay_data/nncamrh/nc_files/baseline_nn_rh.cam.h1.0007-01-01-00000.nc\n",
      "output_filename: /Users/jianda/Projects/experience_replay_data/nncamrh/nc_files/baseline_nn_rh.cam.h1.2004-01-01-00000.nc\n",
      "Converting /Users/jianda/Projects/experience_replay_data/nncamrh/nc_files/baseline_nn_rh.cam.h1.0006-01-01-00000.nc\n",
      "output_filename: /Users/jianda/Projects/experience_replay_data/nncamrh/nc_files/baseline_nn_rh.cam.h1.2003-01-01-00000.nc\n",
      "Converting /Users/jianda/Projects/experience_replay_data/nncamrh/nc_files/baseline_nn_rh.cam.h1.0001-01-01-00000.nc\n",
      "output_filename: /Users/jianda/Projects/experience_replay_data/nncamrh/nc_files/baseline_nn_rh.cam.h1.1998-01-01-00000.nc\n"
     ]
    }
   ],
   "source": [
    "import os\n",
    "nncamrh_dir = \"/Users/jianda/Projects/experience_replay_data/nncamrh/nc_files/\"\n",
    "for file in os.listdir(nncamrh_dir):\n",
    "    if file.endswith(\".nc\") and \"h1.000\" in file:\n",
    "        convert_to_1998_dates(nncamrh_dir + file)\n"
   ]
  }
 ],
 "metadata": {
  "kernelspec": {
   "display_name": "nncam",
   "language": "python",
   "name": "python3"
  },
  "language_info": {
   "codemirror_mode": {
    "name": "ipython",
    "version": 3
   },
   "file_extension": ".py",
   "mimetype": "text/x-python",
   "name": "python",
   "nbconvert_exporter": "python",
   "pygments_lexer": "ipython3",
   "version": "3.9.20"
  }
 },
 "nbformat": 4,
 "nbformat_minor": 2
}
